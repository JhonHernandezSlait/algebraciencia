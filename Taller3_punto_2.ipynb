{
 "cells": [
  {
   "cell_type": "markdown",
   "id": "f494a1fa-4ed4-465e-8bfb-16a7f9a0d0e8",
   "metadata": {},
   "source": [
    "### Punto 2 "
   ]
  },
  {
   "cell_type": "markdown",
   "id": "a265ca53-7cb2-4db8-bcfd-5af0a39ad0ac",
   "metadata": {
    "tags": []
   },
   "source": [
    "##### 2a.Implemente un algoritmo para calcular la factorización QR de unamatríz basando en el proceso de ortogonalización de Grahm-Schmidt. El algoritmo debe recibir una matriz A de tamaño m × n con m ≥ n y retornar una matriz Q de tamaño m × n y una matriz triangular superior R de tamaño n × n, tales que QtQ = In y A = QR. Compare los resultados de su algoritmo con los de la función scipy.linalg.qr SciPy Manual."
   ]
  },
  {
   "cell_type": "code",
   "execution_count": 72,
   "id": "a7229fa6-d626-4400-b167-9138413f559b",
   "metadata": {
    "tags": []
   },
   "outputs": [
    {
     "name": "stdout",
     "output_type": "stream",
     "text": [
      "Matriz Q:\n",
      "[[ 0.12309149  0.90453403  0.        ]\n",
      " [ 0.49236596  0.30151134  0.        ]\n",
      " [ 0.86164044 -0.30151134  0.        ]]\n",
      "Matriz R:\n",
      "[[ 8.1240384   9.6011363  11.07823419]\n",
      " [ 0.          0.90453403  1.80906807]\n",
      " [ 0.          0.          0.        ]]\n"
     ]
    }
   ],
   "source": [
    "#punto 2a\n",
    "import numpy as np\n",
    "\n",
    "def gram_schmidt_qr(A):\n",
    "    A = A.astype(float)\n",
    "    m, n = A.shape\n",
    "    if m >n:\n",
    "        raise ValueError(\"El número de filas m debe ser mayor o igual que el número de columnas n.\")\n",
    "\n",
    "    Q = np.zeros((m, n))\n",
    "    R = np.zeros((n, n))\n",
    "\n",
    "    for j in range(n):\n",
    "        v = A[:, j]\n",
    "        for i in range(j):\n",
    "            R[i, j] = np.dot(Q[:, i], A[:, j])\n",
    "            v -= R[i, j] * Q[:, i]\n",
    "        R[j, j] = np.linalg.norm(v)\n",
    "        if R[j, j] != 0:\n",
    "            Q[:, j] = v / R[j, j]\n",
    "        else:\n",
    "            Q[:, j] = np.zeros(m)\n",
    "\n",
    "    return Q, R\n",
    "\n",
    "# Ejemplo de uso\n",
    "A = np.array([[1, 2, 3], [4, 5, 6], [7, 8, 9]], dtype=float)\n",
    "Q, R = gram_schmidt_qr(A)\n",
    "\n",
    "print(\"Matriz Q:\")\n",
    "print(Q)\n",
    "print(\"Matriz R:\")\n",
    "print(R)\n"
   ]
  },
  {
   "cell_type": "markdown",
   "id": "f6666ce1-85ae-4366-bc9a-962f9250eefd",
   "metadata": {},
   "source": [
    "Matriz Q:\n",
    "\n",
    "Contiene direcciones ortogonales y normalizadas de las columnas de la matriz original A.\n",
    "Cada columna de Q representa una dirección principal en los datos de A.\n",
    "Las columnas son ortogonales entre sí, lo que significa que están perpendiculares.\n",
    "En nuestro ejemplo, las primeras dos columnas de Q representan las direcciones principales en los datos, mientras que la tercera columna es cero, indicando que la tercera columna de A es una combinación lineal de las dos primeras.\n",
    "\n",
    "Matriz R:\n",
    "\n",
    "Es una matriz triangular superior que contiene información sobre la importancia y las relaciones de ortogonalidad entre las direcciones dadas por Q.\n",
    "Los valores en la diagonal principal de R representan la importancia de cada dirección en las columnas originales de A.\n",
    "Los valores fuera de la diagonal principal son ceros, lo que confirma la ortogonalidad entre las direcciones.\n",
    "En resumen, la factorización QR descompone la matriz A en direcciones significativas (Q) y su respectiva importancia (R). Esto es útil para analizar y representar los datos de A en términos de direcciones ortogonales, lo que facilita la simplificación y el análisis de los datos originales.\n",
    "\n",
    "\n",
    "\n",
    "\n",
    "\n"
   ]
  },
  {
   "cell_type": "code",
   "execution_count": 56,
   "id": "ca008848-08dd-4fa9-a2b0-6cc3d4846e7a",
   "metadata": {
    "tags": []
   },
   "outputs": [
    {
     "name": "stdout",
     "output_type": "stream",
     "text": [
      "Matriz Q:\n",
      "[[ 0.12309149  0.90453403 -0.40824829]\n",
      " [ 0.49236596  0.30151134  0.81649658]\n",
      " [ 0.86164044 -0.30151134 -0.40824829]]\n",
      "Matriz R:\n",
      "[[8.1240384  9.6011363  9.35495331]\n",
      " [0.         0.90453403 2.41209076]\n",
      " [0.         0.         0.81649658]]\n"
     ]
    }
   ],
   "source": [
    "#Otra opcion de validacion del punto 2a\n",
    "import numpy as np\n",
    "\n",
    "def gram_schmidt_qr(A):\n",
    "    m, n = A.shape\n",
    "    Q = np.zeros((m, n), dtype=float)\n",
    "    R = np.zeros((n, n), dtype=float)\n",
    "\n",
    "    for j in range(n):\n",
    "        v = A[:, j]\n",
    "        for i in range(j):\n",
    "            R[i, j] = np.dot(Q[:, i], A[:, j])\n",
    "            v -= R[i, j] * Q[:, i]\n",
    "        R[j, j] = np.linalg.norm(v)\n",
    "        Q[:, j] = v / R[j, j]\n",
    "\n",
    "    return Q, R\n",
    "\n",
    "# Ejemplo de uso\n",
    "A = np.array([[1.0, 2.0, 3.0],\n",
    "              [4.0, 5.0, 6.0],\n",
    "              [7.0, 8.0, 7.0]], dtype=float)\n",
    "\n",
    "Q, R = gram_schmidt_qr(A)\n",
    "print(\"Matriz Q:\")\n",
    "print(Q)\n",
    "print(\"Matriz R:\")\n",
    "print(R)\n"
   ]
  },
  {
   "cell_type": "markdown",
   "id": "2ec2c7ed-bb73-468f-a57c-67d2a7ef6928",
   "metadata": {},
   "source": [
    "la matriz Q es ortogonal, lo que significa que sus columnas son ortogonales entre sí, y la matriz R es triangular superior. Estas son las propiedades deseadas de la factorización QR y que resultan muy importante"
   ]
  },
  {
   "cell_type": "code",
   "execution_count": 57,
   "id": "6a23baf8-d608-4fe9-8c8c-80061ca83a8f",
   "metadata": {
    "tags": []
   },
   "outputs": [
    {
     "name": "stdout",
     "output_type": "stream",
     "text": [
      "QtQ:\n",
      "[[ 1.00000000e+00  1.45860311e-15 -3.98398842e-15]\n",
      " [ 1.45860311e-15  1.00000000e+00  5.20102955e-16]\n",
      " [-3.98398842e-15  5.20102955e-16  1.00000000e+00]]\n"
     ]
    }
   ],
   "source": [
    "#Probando la matriz de identidad\n",
    "QTQ = np.dot(Q.T, Q)\n",
    "print(\"QtQ:\")\n",
    "print(QTQ)\n"
   ]
  },
  {
   "cell_type": "markdown",
   "id": "71cba6df-5f0d-4d6f-8322-916644f0f1da",
   "metadata": {},
   "source": [
    "Los resultados que se obtuvieron para QTQ son muy cercanos a una matriz de identidad (I), y las pequeñas desviaciones (números muy cercanos a cero) son probablemente el resultado de errores numéricos debido a las limitaciones de precisión en cálculos con números de punto flotante. En términos prácticos, estos valores son esencialmente cero y la matriz Q cumple con la propiedad ortogonal.\n",
    "\n",
    "En resumen, los resultados son consistentes con una factorización QR exitosa, y la matriz Q es ortogonal en un sentido práctico. La pequeña desviación de la identidad es una característica normal de los cálculos numéricos, y se pueden considerar como errores numéricos aceptables.\n"
   ]
  },
  {
   "cell_type": "code",
   "execution_count": 58,
   "id": "af84fbd4-2dfc-4b55-9b06-7382885eec01",
   "metadata": {
    "tags": []
   },
   "outputs": [
    {
     "name": "stdout",
     "output_type": "stream",
     "text": [
      "Matriz Q (SciPy):\n",
      "[[-0.12309149  0.90453403  0.40824829]\n",
      " [-0.49236596  0.30151134 -0.81649658]\n",
      " [-0.86164044 -0.30151134  0.40824829]]\n",
      "Matriz R (SciPy):\n",
      "[[-8.12403840e+00 -1.33226763e-15  3.27515792e-15]\n",
      " [ 0.00000000e+00  9.04534034e-01  3.33066907e-16]\n",
      " [ 0.00000000e+00  0.00000000e+00 -8.16496581e-01]]\n"
     ]
    }
   ],
   "source": [
    "#Comparacion de los resultados de su algoritmo con los de la función scipy.linalg.qr-SciPy Manual.\n",
    "\n",
    "from scipy.linalg import qr\n",
    "\n",
    "Q_scipy, R_scipy = qr(A, mode='economic')\n",
    "\n",
    "print(\"Matriz Q (SciPy):\")\n",
    "print(Q_scipy)\n",
    "print(\"Matriz R (SciPy):\")\n",
    "print(R_scipy)\n"
   ]
  },
  {
   "cell_type": "markdown",
   "id": "803acff3-46c0-4c4e-8eeb-00de0fda413e",
   "metadata": {},
   "source": [
    "En la comparación entre la implementación personalizada del algoritmo de factorización QR mediante el proceso de ortogonalización de Gram-Schmidt y la función scipy.linalg.qr de SciPy, se observaron resultados similares pero no idénticos. Estas diferencias pueden atribuirse a variaciones en la precisión numérica y al enfoque de implementación. Ambas soluciones proporcionaron la descomposición QR de una matriz, confirmando la validez de la implementación personalizada.\n",
    "\n",
    "Es relevante señalar que la función de SciPy es más robusta y puede manejar una variedad de casos, incluyendo matrices de rango completo y matrices de rango deficiente. Por lo tanto, en aplicaciones críticas que requieren precisión numérica, la función de SciPy es una opción confiable."
   ]
  },
  {
   "cell_type": "code",
   "execution_count": 17,
   "id": "cca2b15e-1111-427d-b902-3aecc58871ed",
   "metadata": {
    "tags": []
   },
   "outputs": [],
   "source": [
    "#Punto 2.b Que pasa con la factorización QR cuando las columnas son linealmente dependientes?"
   ]
  },
  {
   "cell_type": "code",
   "execution_count": 13,
   "id": "2356835b-3958-4701-ac4d-2f9451d03b86",
   "metadata": {
    "tags": []
   },
   "outputs": [
    {
     "name": "stdout",
     "output_type": "stream",
     "text": [
      "Matriz A con columnas linealmente dependientes:\n",
      "[[ 1  2  3]\n",
      " [ 4  8 12]\n",
      " [ 7 14 21]]\n",
      "Matriz Q:\n",
      "[[-0.12309149  0.95742711 -0.26111648]\n",
      " [-0.49236596 -0.28736847 -0.82158086]\n",
      " [-0.86164044  0.02743526  0.50677713]]\n",
      "Matriz R:\n",
      "[[-8.12403840e+00 -1.62480768e+01 -2.43721152e+01]\n",
      " [ 0.00000000e+00  2.51214793e-15  5.02429587e-15]\n",
      " [ 0.00000000e+00  0.00000000e+00  0.00000000e+00]]\n"
     ]
    }
   ],
   "source": [
    "import numpy as np\n",
    "\n",
    "# Crear una matriz con columnas linealmente dependientes basada en la matriz A anterior\n",
    "A_dependent = np.array([[1, 2, 3],\n",
    "                       [4, 8, 12],  # Esta fila es 4 veces la primera\n",
    "                       [7, 14, 21]])  # Esta fila es 7 veces la primera\n",
    "\n",
    "# Realizar la factorización QR\n",
    "Q_dependent, R_dependent = np.linalg.qr(A_dependent)\n",
    "\n",
    "print(\"Matriz A con columnas linealmente dependientes:\")\n",
    "print(A_dependent)\n",
    "print(\"Matriz Q:\")\n",
    "print(Q_dependent)\n",
    "print(\"Matriz R:\")\n",
    "print(R_dependent)\n"
   ]
  },
  {
   "cell_type": "markdown",
   "id": "84bae41b-ceda-40a5-b5e3-5c2c7389939d",
   "metadata": {},
   "source": [
    "Matriz A con columnas linealmente dependientes: La matriz A tiene la segunda y la tercera columna que son múltiplos exactos de la primera columna. Esto indica una dependencia lineal entre las columnas, lo que hace que la matriz sea singular y, por lo tanto, no puede tener una factorización QR única.\n",
    "\n",
    "Matriz Q: A pesar de la dependencia lineal en las columnas de A, la factorización QR se realizó con éxito. La matriz Q contiene columnas que forman una base ortogonal para el espacio generado por las columnas de A. Sin embargo, es importante destacar que la tercera columna de Q es diferente de cero, a pesar de que las columnas correspondientes de A son linealmente dependientes. Esto es una peculiaridad de la factorización QR en el caso de columnas linealmente dependientes. La matriz Q todavía proporciona direcciones ortogonales, pero el proceso de ortogonalización no puede hacer que las columnas sean linealmente independientes.\n",
    "\n",
    "Matriz R: La matriz R es triangular superior y describe cómo las columnas de A se proyectan en las direcciones dadas por las columnas de Q. En este caso, la tercera columna de R contiene ceros, lo que indica que no hay una proyección efectiva en la dirección correspondiente a la tercera columna de A."
   ]
  },
  {
   "cell_type": "code",
   "execution_count": 73,
   "id": "f9200d5b-fdcf-4e33-9a6b-74593e2707a4",
   "metadata": {
    "tags": []
   },
   "outputs": [],
   "source": [
    "#Otro ejemplo del Punto 2b: Ejemplo de que pasa con la factorización QR cuando las columnas son linealmente dependientes."
   ]
  },
  {
   "cell_type": "code",
   "execution_count": 45,
   "id": "d1bbdfb2-051a-4a34-afa5-66a19758d67c",
   "metadata": {
    "tags": []
   },
   "outputs": [
    {
     "ename": "ValueError",
     "evalue": "La matriz A no se puede factorizar QR debido a columnas linealmente dependientes.",
     "output_type": "error",
     "traceback": [
      "\u001b[0;31m---------------------------------------------------------------------------\u001b[0m",
      "\u001b[0;31mValueError\u001b[0m                                Traceback (most recent call last)",
      "Cell \u001b[0;32mIn[45], line 26\u001b[0m\n\u001b[1;32m     24\u001b[0m \u001b[38;5;66;03m# Ejemplo de uso\u001b[39;00m\n\u001b[1;32m     25\u001b[0m A \u001b[38;5;241m=\u001b[39m np\u001b[38;5;241m.\u001b[39marray([[\u001b[38;5;241m1\u001b[39m, \u001b[38;5;241m2\u001b[39m, \u001b[38;5;241m3\u001b[39m], [\u001b[38;5;241m4\u001b[39m, \u001b[38;5;241m5\u001b[39m, \u001b[38;5;241m6\u001b[39m], [\u001b[38;5;241m7\u001b[39m, \u001b[38;5;241m8\u001b[39m, \u001b[38;5;241m9\u001b[39m]], dtype\u001b[38;5;241m=\u001b[39m\u001b[38;5;28mfloat\u001b[39m)\n\u001b[0;32m---> 26\u001b[0m Q, R \u001b[38;5;241m=\u001b[39m \u001b[43mmodified_gram_schmidt_qr\u001b[49m\u001b[43m(\u001b[49m\u001b[43mA\u001b[49m\u001b[43m)\u001b[49m\n\u001b[1;32m     28\u001b[0m \u001b[38;5;28mprint\u001b[39m(\u001b[38;5;124m\"\u001b[39m\u001b[38;5;124mMatriz Q:\u001b[39m\u001b[38;5;124m\"\u001b[39m)\n\u001b[1;32m     29\u001b[0m \u001b[38;5;28mprint\u001b[39m(Q)\n",
      "Cell \u001b[0;32mIn[45], line 15\u001b[0m, in \u001b[0;36mmodified_gram_schmidt_qr\u001b[0;34m(A)\u001b[0m\n\u001b[1;32m     13\u001b[0m     R[j, j] \u001b[38;5;241m=\u001b[39m np\u001b[38;5;241m.\u001b[39mlinalg\u001b[38;5;241m.\u001b[39mnorm(v)\n\u001b[1;32m     14\u001b[0m     \u001b[38;5;28;01mif\u001b[39;00m R[j, j] \u001b[38;5;241m==\u001b[39m \u001b[38;5;241m0\u001b[39m:\n\u001b[0;32m---> 15\u001b[0m         \u001b[38;5;28;01mraise\u001b[39;00m \u001b[38;5;167;01mValueError\u001b[39;00m(\u001b[38;5;124m\"\u001b[39m\u001b[38;5;124mLa matriz A no se puede factorizar QR debido a columnas linealmente dependientes.\u001b[39m\u001b[38;5;124m\"\u001b[39m)\n\u001b[1;32m     16\u001b[0m     Q[:, j] \u001b[38;5;241m=\u001b[39m v \u001b[38;5;241m/\u001b[39m R[j, j]\n\u001b[1;32m     18\u001b[0m \u001b[38;5;66;03m# Normalizar las columnas de Q para garantizar la ortogonalidad\u001b[39;00m\n",
      "\u001b[0;31mValueError\u001b[0m: La matriz A no se puede factorizar QR debido a columnas linealmente dependientes."
     ]
    }
   ],
   "source": [
    "import numpy as np\n",
    "\n",
    "def modified_gram_schmidt_qr(A):\n",
    "    m, n = A.shape\n",
    "    Q = np.zeros((m, n))\n",
    "    R = np.zeros((n, n))\n",
    "\n",
    "    for j in range(n):\n",
    "        v = A[:, j]\n",
    "        for i in range(j):\n",
    "            R[i, j] = np.dot(Q[:, i], A[:, j])\n",
    "            v -= R[i, j] * Q[:, i]\n",
    "        R[j, j] = np.linalg.norm(v)\n",
    "        if R[j, j] == 0:\n",
    "            raise ValueError(\"La matriz A no se puede factorizar QR debido a columnas linealmente dependientes.\")\n",
    "        Q[:, j] = v / R[j, j]\n",
    "\n",
    "    # Normalizar las columnas de Q para garantizar la ortogonalidad\n",
    "    for j in range(n):\n",
    "        Q[:, j] /= np.linalg.norm(Q[:, j])\n",
    "\n",
    "    return Q, R\n",
    "\n",
    "# Ejemplo de uso\n",
    "A = np.array([[1, 2, 3], [4, 5, 6], [7, 8, 9]], dtype=float)\n",
    "Q, R = modified_gram_schmidt_qr(A)\n",
    "\n",
    "print(\"Matriz Q:\")\n",
    "print(Q)\n",
    "print(\"Matriz R:\")\n",
    "print(R)\n"
   ]
  },
  {
   "cell_type": "markdown",
   "id": "8d1f9398-5788-43ef-9fde-c385b55555b1",
   "metadata": {},
   "source": [
    "Matriz Q:\n",
    "\n",
    "Las columnas de Q representan las \"direcciones dominantes\" en los datos contenidos en la matriz A.\n",
    "Cada columna de Q es una \"versión mejorada\" de las columnas originales de A, optimizada para ser ortogonal a las demás.\n",
    "\n",
    "\n",
    "La matriz R contiene información sobre \"cuánto\" de cada dirección dominante está presente en las columnas originales de A.\n",
    "Los valores en la diagonal principal de R representan la \"importancia\" o \"contribución\" de cada dirección dominante.\n",
    "Los valores fuera de la diagonal principal de R indican cómo las direcciones dominantes están relacionadas entre sí.\n",
    "\n",
    "la factorización QR permite descomponer una matriz en direcciones significativas (Q) y su respectiva importancia (R) en el contexto del problema particular que representa la matriz A."
   ]
  },
  {
   "cell_type": "code",
   "execution_count": 47,
   "id": "cc38dd02-bbe6-4bb0-9f7f-a85b64d02277",
   "metadata": {
    "tags": []
   },
   "outputs": [
    {
     "name": "stdout",
     "output_type": "stream",
     "text": [
      "Matriz Q:\n",
      "[[ 0.12309149  0.90453403  0.        ]\n",
      " [ 0.49236596  0.30151134  0.        ]\n",
      " [ 0.86164044 -0.30151134  0.        ]]\n",
      "Matriz R:\n",
      "[[ 8.1240384   9.6011363  11.07823419]\n",
      " [ 0.          0.90453403  1.80906807]\n",
      " [ 0.          0.          0.        ]]\n"
     ]
    }
   ],
   "source": [
    "import numpy as np\n",
    "\n",
    "def economic_qr(A):\n",
    "    m, n = A.shape\n",
    "    Q = np.zeros((m, n))\n",
    "    R = np.zeros((n, n))\n",
    "\n",
    "    for j in range(n):\n",
    "        v = A[:, j]\n",
    "        for i in range(j):\n",
    "            R[i, j] = np.dot(Q[:, i], A[:, j])\n",
    "            v -= R[i, j] * Q[:, i]\n",
    "        R[j, j] = np.linalg.norm(v)\n",
    "        if R[j, j] == 0:\n",
    "            # Columna j de A es linealmente dependiente de las anteriores\n",
    "            Q[:, j] = np.zeros(m)\n",
    "        else:\n",
    "            Q[:, j] = v / R[j, j]\n",
    "\n",
    "    return Q, R\n",
    "\n",
    "# Ejemplo de uso\n",
    "A = np.array([[1, 2, 3], [4, 5, 6], [7, 8, 9]], dtype=float)\n",
    "Q, R = economic_qr(A)\n",
    "\n",
    "print(\"Matriz Q:\")\n",
    "print(Q)\n",
    "print(\"Matriz R:\")\n",
    "print(R)\n"
   ]
  },
  {
   "cell_type": "code",
   "execution_count": 18,
   "id": "2cc37c80-6b23-4952-a872-b9aefec4bf04",
   "metadata": {
    "tags": []
   },
   "outputs": [],
   "source": [
    "# Punto 2c Averigüe bajo cuales condiciones la factorización QR es única"
   ]
  },
  {
   "cell_type": "code",
   "execution_count": 15,
   "id": "42570e6a-077a-45e2-8caf-077b32de09fe",
   "metadata": {
    "tags": []
   },
   "outputs": [
    {
     "name": "stdout",
     "output_type": "stream",
     "text": [
      "Matriz A de rango completo:\n",
      "[[1 2 3]\n",
      " [4 5 6]\n",
      " [7 8 9]]\n",
      "Matriz Q:\n",
      "[[-0.12309149  0.90453403  0.40824829]\n",
      " [-0.49236596  0.30151134 -0.81649658]\n",
      " [-0.86164044 -0.30151134  0.40824829]]\n",
      "Matriz R:\n",
      "[[-8.12403840e+00 -9.60113630e+00 -1.10782342e+01]\n",
      " [ 0.00000000e+00  9.04534034e-01  1.80906807e+00]\n",
      " [ 0.00000000e+00  0.00000000e+00 -8.88178420e-16]]\n"
     ]
    }
   ],
   "source": [
    "import numpy as np\n",
    "\n",
    "# Crear una matriz de rango completo\n",
    "A = np.array([[1, 2, 3],\n",
    "              [4, 5, 6],\n",
    "              [7, 8, 9]])\n",
    "\n",
    "# Realizar la factorización QR\n",
    "Q, R = np.linalg.qr(A)\n",
    "\n",
    "print(\"Matriz A de rango completo:\")\n",
    "print(A)\n",
    "print(\"Matriz Q:\")\n",
    "print(Q)\n",
    "print(\"Matriz R:\")\n",
    "print(R)\n"
   ]
  },
  {
   "cell_type": "markdown",
   "id": "d66bca85-462a-4dfe-a095-34b3aa5e7ba0",
   "metadata": {},
   "source": [
    "la factorización QR descompone la matriz A en una matriz ortogonal Q y una matriz triangular superior R. Los resultados reflejan que la matriz A original es de rango completo y que Q y R describen sus componentes y proyecciones en el espacio. La factorización QR es útil en una variedad de aplicaciones, incluyendo la resolución de sistemas de ecuaciones lineales y la aproximación de mínimos cuadrados."
   ]
  },
  {
   "cell_type": "markdown",
   "id": "b271f6a6-70fe-4113-a987-343d882256cb",
   "metadata": {},
   "source": [
    "## Punto 4"
   ]
  },
  {
   "cell_type": "code",
   "execution_count": 59,
   "id": "35ac67ea-7313-4777-9735-97ac63f81299",
   "metadata": {
    "tags": []
   },
   "outputs": [
    {
     "ename": "FileNotFoundError",
     "evalue": "No such file: '/Users/facil/Documents/GitHub/algebraciencia/tu_imagen.png'",
     "output_type": "error",
     "traceback": [
      "\u001b[0;31m---------------------------------------------------------------------------\u001b[0m",
      "\u001b[0;31mFileNotFoundError\u001b[0m                         Traceback (most recent call last)",
      "Cell \u001b[0;32mIn[59], line 6\u001b[0m\n\u001b[1;32m      3\u001b[0m \u001b[38;5;28;01mfrom\u001b[39;00m \u001b[38;5;21;01mskimage\u001b[39;00m \u001b[38;5;28;01mimport\u001b[39;00m io, color\n\u001b[1;32m      5\u001b[0m \u001b[38;5;66;03m# Cargar la imagen en escala de grises\u001b[39;00m\n\u001b[0;32m----> 6\u001b[0m image \u001b[38;5;241m=\u001b[39m \u001b[43mio\u001b[49m\u001b[38;5;241;43m.\u001b[39;49m\u001b[43mimread\u001b[49m\u001b[43m(\u001b[49m\u001b[38;5;124;43m\"\u001b[39;49m\u001b[38;5;124;43mtu_imagen.png\u001b[39;49m\u001b[38;5;124;43m\"\u001b[39;49m\u001b[43m)\u001b[49m\n\u001b[1;32m      7\u001b[0m image_gray \u001b[38;5;241m=\u001b[39m color\u001b[38;5;241m.\u001b[39mrgb2gray(image)\n\u001b[1;32m      9\u001b[0m \u001b[38;5;66;03m# Realizar la descomposición en valores singulares (SVD)\u001b[39;00m\n",
      "File \u001b[0;32m/opt/anaconda3/lib/python3.8/site-packages/skimage/io/_io.py:53\u001b[0m, in \u001b[0;36mimread\u001b[0;34m(fname, as_gray, plugin, **plugin_args)\u001b[0m\n\u001b[1;32m     50\u001b[0m         plugin \u001b[38;5;241m=\u001b[39m \u001b[38;5;124m'\u001b[39m\u001b[38;5;124mtifffile\u001b[39m\u001b[38;5;124m'\u001b[39m\n\u001b[1;32m     52\u001b[0m \u001b[38;5;28;01mwith\u001b[39;00m file_or_url_context(fname) \u001b[38;5;28;01mas\u001b[39;00m fname:\n\u001b[0;32m---> 53\u001b[0m     img \u001b[38;5;241m=\u001b[39m \u001b[43mcall_plugin\u001b[49m\u001b[43m(\u001b[49m\u001b[38;5;124;43m'\u001b[39;49m\u001b[38;5;124;43mimread\u001b[39;49m\u001b[38;5;124;43m'\u001b[39;49m\u001b[43m,\u001b[49m\u001b[43m \u001b[49m\u001b[43mfname\u001b[49m\u001b[43m,\u001b[49m\u001b[43m \u001b[49m\u001b[43mplugin\u001b[49m\u001b[38;5;241;43m=\u001b[39;49m\u001b[43mplugin\u001b[49m\u001b[43m,\u001b[49m\u001b[43m \u001b[49m\u001b[38;5;241;43m*\u001b[39;49m\u001b[38;5;241;43m*\u001b[39;49m\u001b[43mplugin_args\u001b[49m\u001b[43m)\u001b[49m\n\u001b[1;32m     55\u001b[0m \u001b[38;5;28;01mif\u001b[39;00m \u001b[38;5;129;01mnot\u001b[39;00m \u001b[38;5;28mhasattr\u001b[39m(img, \u001b[38;5;124m'\u001b[39m\u001b[38;5;124mndim\u001b[39m\u001b[38;5;124m'\u001b[39m):\n\u001b[1;32m     56\u001b[0m     \u001b[38;5;28;01mreturn\u001b[39;00m img\n",
      "File \u001b[0;32m/opt/anaconda3/lib/python3.8/site-packages/skimage/io/manage_plugins.py:207\u001b[0m, in \u001b[0;36mcall_plugin\u001b[0;34m(kind, *args, **kwargs)\u001b[0m\n\u001b[1;32m    203\u001b[0m     \u001b[38;5;28;01mexcept\u001b[39;00m \u001b[38;5;167;01mIndexError\u001b[39;00m:\n\u001b[1;32m    204\u001b[0m         \u001b[38;5;28;01mraise\u001b[39;00m \u001b[38;5;167;01mRuntimeError\u001b[39;00m(\u001b[38;5;124m'\u001b[39m\u001b[38;5;124mCould not find the plugin \u001b[39m\u001b[38;5;124m\"\u001b[39m\u001b[38;5;132;01m%s\u001b[39;00m\u001b[38;5;124m\"\u001b[39m\u001b[38;5;124m for \u001b[39m\u001b[38;5;132;01m%s\u001b[39;00m\u001b[38;5;124m.\u001b[39m\u001b[38;5;124m'\u001b[39m \u001b[38;5;241m%\u001b[39m\n\u001b[1;32m    205\u001b[0m                            (plugin, kind))\n\u001b[0;32m--> 207\u001b[0m \u001b[38;5;28;01mreturn\u001b[39;00m \u001b[43mfunc\u001b[49m\u001b[43m(\u001b[49m\u001b[38;5;241;43m*\u001b[39;49m\u001b[43margs\u001b[49m\u001b[43m,\u001b[49m\u001b[43m \u001b[49m\u001b[38;5;241;43m*\u001b[39;49m\u001b[38;5;241;43m*\u001b[39;49m\u001b[43mkwargs\u001b[49m\u001b[43m)\u001b[49m\n",
      "File \u001b[0;32m/opt/anaconda3/lib/python3.8/site-packages/skimage/io/_plugins/imageio_plugin.py:15\u001b[0m, in \u001b[0;36mimread\u001b[0;34m(*args, **kwargs)\u001b[0m\n\u001b[1;32m     13\u001b[0m \u001b[38;5;129m@wraps\u001b[39m(imageio_imread)\n\u001b[1;32m     14\u001b[0m \u001b[38;5;28;01mdef\u001b[39;00m \u001b[38;5;21mimread\u001b[39m(\u001b[38;5;241m*\u001b[39margs, \u001b[38;5;241m*\u001b[39m\u001b[38;5;241m*\u001b[39mkwargs):\n\u001b[0;32m---> 15\u001b[0m     \u001b[38;5;28;01mreturn\u001b[39;00m np\u001b[38;5;241m.\u001b[39masarray(\u001b[43mimageio_imread\u001b[49m\u001b[43m(\u001b[49m\u001b[38;5;241;43m*\u001b[39;49m\u001b[43margs\u001b[49m\u001b[43m,\u001b[49m\u001b[43m \u001b[49m\u001b[38;5;241;43m*\u001b[39;49m\u001b[38;5;241;43m*\u001b[39;49m\u001b[43mkwargs\u001b[49m\u001b[43m)\u001b[49m)\n",
      "File \u001b[0;32m/opt/anaconda3/lib/python3.8/site-packages/imageio/v2.py:359\u001b[0m, in \u001b[0;36mimread\u001b[0;34m(uri, format, **kwargs)\u001b[0m\n\u001b[1;32m    356\u001b[0m imopen_args \u001b[38;5;241m=\u001b[39m decypher_format_arg(\u001b[38;5;28mformat\u001b[39m)\n\u001b[1;32m    357\u001b[0m imopen_args[\u001b[38;5;124m\"\u001b[39m\u001b[38;5;124mlegacy_mode\u001b[39m\u001b[38;5;124m\"\u001b[39m] \u001b[38;5;241m=\u001b[39m \u001b[38;5;28;01mTrue\u001b[39;00m\n\u001b[0;32m--> 359\u001b[0m \u001b[38;5;28;01mwith\u001b[39;00m \u001b[43mimopen\u001b[49m\u001b[43m(\u001b[49m\u001b[43muri\u001b[49m\u001b[43m,\u001b[49m\u001b[43m \u001b[49m\u001b[38;5;124;43m\"\u001b[39;49m\u001b[38;5;124;43mri\u001b[39;49m\u001b[38;5;124;43m\"\u001b[39;49m\u001b[43m,\u001b[49m\u001b[43m \u001b[49m\u001b[38;5;241;43m*\u001b[39;49m\u001b[38;5;241;43m*\u001b[39;49m\u001b[43mimopen_args\u001b[49m\u001b[43m)\u001b[49m \u001b[38;5;28;01mas\u001b[39;00m file:\n\u001b[1;32m    360\u001b[0m     result \u001b[38;5;241m=\u001b[39m file\u001b[38;5;241m.\u001b[39mread(index\u001b[38;5;241m=\u001b[39m\u001b[38;5;241m0\u001b[39m, \u001b[38;5;241m*\u001b[39m\u001b[38;5;241m*\u001b[39mkwargs)\n\u001b[1;32m    362\u001b[0m \u001b[38;5;28;01mreturn\u001b[39;00m result\n",
      "File \u001b[0;32m/opt/anaconda3/lib/python3.8/site-packages/imageio/core/imopen.py:113\u001b[0m, in \u001b[0;36mimopen\u001b[0;34m(uri, io_mode, plugin, extension, format_hint, legacy_mode, **kwargs)\u001b[0m\n\u001b[1;32m    111\u001b[0m     request\u001b[38;5;241m.\u001b[39mformat_hint \u001b[38;5;241m=\u001b[39m format_hint\n\u001b[1;32m    112\u001b[0m \u001b[38;5;28;01melse\u001b[39;00m:\n\u001b[0;32m--> 113\u001b[0m     request \u001b[38;5;241m=\u001b[39m \u001b[43mRequest\u001b[49m\u001b[43m(\u001b[49m\u001b[43muri\u001b[49m\u001b[43m,\u001b[49m\u001b[43m \u001b[49m\u001b[43mio_mode\u001b[49m\u001b[43m,\u001b[49m\u001b[43m \u001b[49m\u001b[43mformat_hint\u001b[49m\u001b[38;5;241;43m=\u001b[39;49m\u001b[43mformat_hint\u001b[49m\u001b[43m,\u001b[49m\u001b[43m \u001b[49m\u001b[43mextension\u001b[49m\u001b[38;5;241;43m=\u001b[39;49m\u001b[43mextension\u001b[49m\u001b[43m)\u001b[49m\n\u001b[1;32m    115\u001b[0m source \u001b[38;5;241m=\u001b[39m \u001b[38;5;124m\"\u001b[39m\u001b[38;5;124m<bytes>\u001b[39m\u001b[38;5;124m\"\u001b[39m \u001b[38;5;28;01mif\u001b[39;00m \u001b[38;5;28misinstance\u001b[39m(uri, \u001b[38;5;28mbytes\u001b[39m) \u001b[38;5;28;01melse\u001b[39;00m uri\n\u001b[1;32m    117\u001b[0m \u001b[38;5;66;03m# fast-path based on plugin\u001b[39;00m\n\u001b[1;32m    118\u001b[0m \u001b[38;5;66;03m# (except in legacy mode)\u001b[39;00m\n",
      "File \u001b[0;32m/opt/anaconda3/lib/python3.8/site-packages/imageio/core/request.py:247\u001b[0m, in \u001b[0;36mRequest.__init__\u001b[0;34m(self, uri, mode, extension, format_hint, **kwargs)\u001b[0m\n\u001b[1;32m    244\u001b[0m     \u001b[38;5;28;01mraise\u001b[39;00m \u001b[38;5;167;01mValueError\u001b[39;00m(\u001b[38;5;124mf\u001b[39m\u001b[38;5;124m\"\u001b[39m\u001b[38;5;124mInvalid Request.Mode: \u001b[39m\u001b[38;5;132;01m{\u001b[39;00mmode\u001b[38;5;132;01m}\u001b[39;00m\u001b[38;5;124m\"\u001b[39m)\n\u001b[1;32m    246\u001b[0m \u001b[38;5;66;03m# Parse what was given\u001b[39;00m\n\u001b[0;32m--> 247\u001b[0m \u001b[38;5;28;43mself\u001b[39;49m\u001b[38;5;241;43m.\u001b[39;49m\u001b[43m_parse_uri\u001b[49m\u001b[43m(\u001b[49m\u001b[43muri\u001b[49m\u001b[43m)\u001b[49m\n\u001b[1;32m    249\u001b[0m \u001b[38;5;66;03m# Set extension\u001b[39;00m\n\u001b[1;32m    250\u001b[0m \u001b[38;5;28;01mif\u001b[39;00m extension \u001b[38;5;129;01mis\u001b[39;00m \u001b[38;5;129;01mnot\u001b[39;00m \u001b[38;5;28;01mNone\u001b[39;00m:\n",
      "File \u001b[0;32m/opt/anaconda3/lib/python3.8/site-packages/imageio/core/request.py:407\u001b[0m, in \u001b[0;36mRequest._parse_uri\u001b[0;34m(self, uri)\u001b[0m\n\u001b[1;32m    404\u001b[0m \u001b[38;5;28;01mif\u001b[39;00m is_read_request:\n\u001b[1;32m    405\u001b[0m     \u001b[38;5;66;03m# Reading: check that the file exists (but is allowed a dir)\u001b[39;00m\n\u001b[1;32m    406\u001b[0m     \u001b[38;5;28;01mif\u001b[39;00m \u001b[38;5;129;01mnot\u001b[39;00m os\u001b[38;5;241m.\u001b[39mpath\u001b[38;5;241m.\u001b[39mexists(fn):\n\u001b[0;32m--> 407\u001b[0m         \u001b[38;5;28;01mraise\u001b[39;00m \u001b[38;5;167;01mFileNotFoundError\u001b[39;00m(\u001b[38;5;124m\"\u001b[39m\u001b[38;5;124mNo such file: \u001b[39m\u001b[38;5;124m'\u001b[39m\u001b[38;5;132;01m%s\u001b[39;00m\u001b[38;5;124m'\u001b[39m\u001b[38;5;124m\"\u001b[39m \u001b[38;5;241m%\u001b[39m fn)\n\u001b[1;32m    408\u001b[0m \u001b[38;5;28;01melse\u001b[39;00m:\n\u001b[1;32m    409\u001b[0m     \u001b[38;5;66;03m# Writing: check that the directory to write to does exist\u001b[39;00m\n\u001b[1;32m    410\u001b[0m     dn \u001b[38;5;241m=\u001b[39m os\u001b[38;5;241m.\u001b[39mpath\u001b[38;5;241m.\u001b[39mdirname(fn)\n",
      "\u001b[0;31mFileNotFoundError\u001b[0m: No such file: '/Users/facil/Documents/GitHub/algebraciencia/tu_imagen.png'"
     ]
    }
   ],
   "source": [
    "import numpy as np\n",
    "import matplotlib.pyplot as plt\n",
    "from skimage import io, color\n",
    "\n",
    "# Cargar la imagen en escala de grises\n",
    "image = io.imread(\"tu_imagen.png\")\n",
    "image_gray = color.rgb2gray(image)\n",
    "\n",
    "# Realizar la descomposición en valores singulares (SVD)\n",
    "U, S, Vt = np.linalg.svd(image_gray, full_matrices=False)\n",
    "\n",
    "# Tamaños de la imagen\n",
    "m, n = image_gray.shape\n",
    "\n",
    "# Número de valores singulares a retener\n",
    "num_singular_values = min(m, n)\n",
    "\n",
    "# Mostrar la imagen original\n",
    "plt.figure(figsize=(10, 5))\n",
    "plt.subplot(1, 1, 1)\n",
    "plt.title(\"Imagen original\")\n",
    "plt.imshow(image_gray, cmap='gray')\n",
    "plt.axis('off')\n",
    "plt.show()\n",
    "\n",
    "# Mostrar la imagen reconstruida utilizando diferentes números de valores singulares\n",
    "for i in range(1, num_singular_values + 1):\n",
    "    reconstructed_image = np.dot(U[:, :i], np.dot(np.diag(S[:i]), Vt[:i, :]))\n",
    "    plt.figure(figsize=(10, 5))\n",
    "    plt.subplot(1, 1, 1)\n",
    "    plt.title(f\"Número de valores singulares = {i}\")\n",
    "    plt.imshow(reconstructed_image, cmap='gray')\n",
    "    plt.axis('off')\n",
    "    plt.show()\n"
   ]
  },
  {
   "cell_type": "code",
   "execution_count": null,
   "id": "b07b4969-5a27-4138-8482-02cf9cf9569d",
   "metadata": {},
   "outputs": [],
   "source": []
  }
 ],
 "metadata": {
  "kernelspec": {
   "display_name": "Python 3 (ipykernel)",
   "language": "python",
   "name": "python3"
  },
  "language_info": {
   "codemirror_mode": {
    "name": "ipython",
    "version": 3
   },
   "file_extension": ".py",
   "mimetype": "text/x-python",
   "name": "python",
   "nbconvert_exporter": "python",
   "pygments_lexer": "ipython3",
   "version": "3.8.8"
  }
 },
 "nbformat": 4,
 "nbformat_minor": 5
}
