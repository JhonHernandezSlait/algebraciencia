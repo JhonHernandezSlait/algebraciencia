{
 "cells": [
  {
   "cell_type": "markdown",
   "id": "1dafde00",
   "metadata": {},
   "source": [
    "# Taller 2"
   ]
  },
  {
   "cell_type": "markdown",
   "id": "c39312ca",
   "metadata": {},
   "source": [
    "## 1. sistemas matriciales"
   ]
  },
  {
   "cell_type": "markdown",
   "id": "5830612c",
   "metadata": {},
   "source": [
    "### 1a."
   ]
  },
  {
   "cell_type": "code",
   "execution_count": 1,
   "id": "6db34335",
   "metadata": {},
   "outputs": [],
   "source": [
    "import numpy as np"
   ]
  },
  {
   "cell_type": "code",
   "execution_count": 23,
   "id": "410c7de8",
   "metadata": {},
   "outputs": [
    {
     "data": {
      "text/plain": [
       "array([[40.],\n",
       "       [10.],\n",
       "       [20.]])"
      ]
     },
     "execution_count": 23,
     "metadata": {},
     "output_type": "execute_result"
    }
   ],
   "source": [
    "a = np.array([[2,4,5],[6,9,8],[4.1,5,3]])\n",
    "b = np.array([[220],[490],[274]])\n",
    "x_original = np.linalg.solve(a,b)\n",
    "x_original"
   ]
  },
  {
   "cell_type": "markdown",
   "id": "0ad7071a",
   "metadata": {},
   "source": [
    "###  1b. "
   ]
  },
  {
   "cell_type": "markdown",
   "id": "15c442d6",
   "metadata": {},
   "source": [
    "Aplicaremos la función simpy by sym para en verificar si el sistema de ecuaciones tiene más de una soluación o si el problema afecta la única solución del sistema:"
   ]
  },
  {
   "cell_type": "code",
   "execution_count": 5,
   "id": "97cbf622",
   "metadata": {},
   "outputs": [
    {
     "data": {
      "image/png": "[encoded data removed]",
      "text/latex": [
       "$\\displaystyle \\left\\{ x : 20.0, \\  y : 31.5384615384615, \\  z : 10.7692307692308\\right\\}$"
      ],
      "text/plain": [
       "{x: 20.0, y: 31.5384615384615, z: 10.7692307692308}"
      ]
     },
     "execution_count": 5,
     "metadata": {},
     "output_type": "execute_result"
    }
   ],
   "source": [
    "import sympy as sym\n",
    "sym.init_printing()\n",
    "x, y, z = sym.symbols('x, y, z')\n",
    "f1 = sym.Eq(2*x+4*y+5*z,220)\n",
    "f2 = sym.Eq(6*x+9*y+8*z,490)\n",
    "f3 = sym.Eq(4.2*x+5*y+3*z,274)\n",
    "x1 = sym.solve([f1,f2,f3],[x,y,z])\n",
    "x1"
   ]
  },
  {
   "cell_type": "code",
   "execution_count": 22,
   "id": "96f16601",
   "metadata": {},
   "outputs": [
    {
     "data": {
      "text/plain": [
       "array([20.        , 31.53846154, 10.76923077])"
      ]
     },
     "execution_count": 22,
     "metadata": {},
     "output_type": "execute_result"
    }
   ],
   "source": [
    "#con numpy:\n",
    "a_modificada = np.array([[2, 4, 5], [6,9,8],[4.2,5,3]])\n",
    "b = np.array([220,490,274])\n",
    "\n",
    "x_modificado= np.linalg.solve(a_modificada, b)\n",
    "x_modificado"
   ]
  },
  {
   "cell_type": "markdown",
   "id": "5713c981",
   "metadata": {},
   "source": [
    "b) Utilizar el delta para determinar el error relativo en A, en este caso, se usará la función con numpy y no sympy debido a que esta no tiene letras."
   ]
  },
  {
   "cell_type": "code",
   "execution_count": 25,
   "id": "d6091f86",
   "metadata": {},
   "outputs": [
    {
     "name": "stdout",
     "output_type": "stream",
     "text": [
      "El delta de a es: 0.004347826086956545\n"
     ]
    }
   ],
   "source": [
    "delta_a = np.linalg.norm(a_modificada - a, ord=np.inf) / np.linalg.norm(a, ord=np.inf)\n",
    "print('El delta de a es:',delta_a)"
   ]
  },
  {
   "cell_type": "markdown",
   "id": "0317fb1d",
   "metadata": {},
   "source": [
    "c) Calcular el numero de condición de a"
   ]
  },
  {
   "cell_type": "code",
   "execution_count": 26,
   "id": "cffeab1a",
   "metadata": {},
   "outputs": [
    {
     "name": "stdout",
     "output_type": "stream",
     "text": [
      "el numero de condición de a es: 766.0769230769235\n"
     ]
    }
   ],
   "source": [
    "kappa_a = np.linalg.cond(a, p=np.inf)\n",
    "print('el numero de condición de a es:', kappa_a)"
   ]
  },
  {
   "cell_type": "markdown",
   "id": "87c63001",
   "metadata": {},
   "source": [
    "d) identificar cota superior."
   ]
  },
  {
   "cell_type": "code",
   "execution_count": 27,
   "id": "499ba445",
   "metadata": {},
   "outputs": [
    {
     "name": "stdout",
     "output_type": "stream",
     "text": [
      "El error de la cota superior es: 3.330769230769251\n"
     ]
    }
   ],
   "source": [
    "error_cota_superior_x = kappa_a * delta_a\n",
    "print('El error de la cota superior es:',error_cota_superior_x)"
   ]
  },
  {
   "cell_type": "code",
   "execution_count": 24,
   "id": "c38067ee",
   "metadata": {},
   "outputs": [
    {
     "name": "stdout",
     "output_type": "stream",
     "text": [
      "Error relativo real en x: 1.4423076923076978\n"
     ]
    }
   ],
   "source": [
    "print(\"Error relativo real en x:\", np.linalg.norm(x1 - x, ord=np.inf) / np.linalg.norm(x, ord=np.inf))"
   ]
  },
  {
   "cell_type": "markdown",
   "id": "5d6cc44e",
   "metadata": {},
   "source": [
    "### Interpretación de resultados: \n",
    " La variación delta en (A) de  0.0043 refleja una mínima perturbación en la matriz. No obstante, dado el alto número de condición de A de 766.08, el sistema es muy sensible a cambios, lo que resulta en un error relativo real en x significativo de 144.23%. Esto indica que incluso pequeñas alteraciones en A pueden generar grandes desviaciones en las soluciones  x. La cota superior calculada 333.08% ofrece un techo estimado de este impacto. En resumen, pequeñas perturbaciones en A pueden llevar a cambios significativos y perjudiciales en las soluciones obtenidas."
   ]
  }
 ],
 "metadata": {
  "kernelspec": {
   "display_name": "Python 3 (ipykernel)",
   "language": "python",
   "name": "python3"
  },
  "language_info": {
   "codemirror_mode": {
    "name": "ipython",
    "version": 3
   },
   "file_extension": ".py",
   "mimetype": "text/x-python",
   "name": "python",
   "nbconvert_exporter": "python",
   "pygments_lexer": "ipython3",
   "version": "3.9.13"
  }
 },
 "nbformat": 4,
 "nbformat_minor": 5
}
