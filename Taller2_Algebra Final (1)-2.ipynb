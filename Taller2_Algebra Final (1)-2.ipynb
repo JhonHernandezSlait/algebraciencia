{
 "cells": [
  {
   "cell_type": "markdown",
   "id": "1dafde00",
   "metadata": {},
   "source": [
    "# Taller 2"
   ]
  },
  {
   "cell_type": "markdown",
   "id": "c39312ca",
   "metadata": {},
   "source": [
    "## 1. sistemas matriciales"
   ]
  },
  {
   "cell_type": "markdown",
   "id": "5830612c",
   "metadata": {},
   "source": [
    "### 1a."
   ]
  },
  {
   "cell_type": "code",
   "execution_count": 1,
   "id": "6db34335",
   "metadata": {},
   "outputs": [],
   "source": [
    "import numpy as np"
   ]
  },
  {
   "cell_type": "code",
   "execution_count": 2,
   "id": "410c7de8",
   "metadata": {},
   "outputs": [
    {
     "data": {
      "text/plain": [
       "array([[40.],\n",
       "       [10.],\n",
       "       [20.]])"
      ]
     },
     "execution_count": 2,
     "metadata": {},
     "output_type": "execute_result"
    }
   ],
   "source": [
    "a = np.array([[2,4,5],[6,9,8],[4.1,5,3]])\n",
    "b = np.array([[220],[490],[274]])\n",
    "x_original = np.linalg.solve(a,b)\n",
    "x_original"
   ]
  },
  {
   "cell_type": "markdown",
   "id": "0ad7071a",
   "metadata": {},
   "source": [
    "###  1b. "
   ]
  },
  {
   "cell_type": "markdown",
   "id": "15c442d6",
   "metadata": {},
   "source": [
    "Aplicaremos la función simpy by sym para en verificar si el sistema de ecuaciones tiene más de una soluación o si el problema afecta la única solución del sistema:"
   ]
  },
  {
   "cell_type": "code",
   "execution_count": 3,
   "id": "97cbf622",
   "metadata": {},
   "outputs": [
    {
     "data": {
      "image/png": "[encoded data removed]",
      "text/latex": [
       "$\\displaystyle \\left\\{ x : 20.0, \\  y : 31.5384615384615, \\  z : 10.7692307692308\\right\\}$"
      ],
      "text/plain": [
       "{x: 20.0, y: 31.5384615384615, z: 10.7692307692308}"
      ]
     },
     "execution_count": 3,
     "metadata": {},
     "output_type": "execute_result"
    }
   ],
   "source": [
    "import sympy as sym\n",
    "sym.init_printing()\n",
    "x, y, z = sym.symbols('x, y, z')\n",
    "f1 = sym.Eq(2*x+4*y+5*z,220)\n",
    "f2 = sym.Eq(6*x+9*y+8*z,490)\n",
    "f3 = sym.Eq(4.2*x+5*y+3*z,274)\n",
    "x1 = sym.solve([f1,f2,f3],[x,y,z])\n",
    "x1"
   ]
  },
  {
   "cell_type": "code",
   "execution_count": 4,
   "id": "96f16601",
   "metadata": {},
   "outputs": [
    {
     "data": {
      "text/plain": [
       "array([20.        , 31.53846154, 10.76923077])"
      ]
     },
     "execution_count": 4,
     "metadata": {},
     "output_type": "execute_result"
    }
   ],
   "source": [
    "#con numpy:\n",
    "a_modificada = np.array([[2, 4, 5], [6,9,8],[4.2,5,3]])\n",
    "b = np.array([220,490,274])\n",
    "\n",
    "x_modificado= np.linalg.solve(a_modificada, b)\n",
    "x_modificado"
   ]
  },
  {
   "cell_type": "markdown",
   "id": "5713c981",
   "metadata": {},
   "source": [
    "b) Utilizar el delta para determinar el error relativo en A, en este caso, se usará la función con numpy y no sympy debido a que esta no tiene letras."
   ]
  },
  {
   "cell_type": "code",
   "execution_count": 5,
   "id": "d6091f86",
   "metadata": {},
   "outputs": [
    {
     "name": "stdout",
     "output_type": "stream",
     "text": [
      "El delta de a es: 0.004347826086956545\n"
     ]
    }
   ],
   "source": [
    "delta_a = np.linalg.norm(a_modificada - a, ord=np.inf) / np.linalg.norm(a, ord=np.inf)\n",
    "print('El delta de a es:',delta_a)"
   ]
  },
  {
   "cell_type": "markdown",
   "id": "0317fb1d",
   "metadata": {},
   "source": [
    "c) Calcular el numero de condición de a"
   ]
  },
  {
   "cell_type": "code",
   "execution_count": 6,
   "id": "cffeab1a",
   "metadata": {},
   "outputs": [
    {
     "name": "stdout",
     "output_type": "stream",
     "text": [
      "el numero de condición de a es: 766.0769230769299\n"
     ]
    }
   ],
   "source": [
    "kappa_a = np.linalg.cond(a, p=np.inf)\n",
    "print('el numero de condición de a es:', kappa_a)"
   ]
  },
  {
   "cell_type": "markdown",
   "id": "87c63001",
   "metadata": {},
   "source": [
    "d) identificar cota superior."
   ]
  },
  {
   "cell_type": "code",
   "execution_count": 7,
   "id": "499ba445",
   "metadata": {},
   "outputs": [
    {
     "name": "stdout",
     "output_type": "stream",
     "text": [
      "El error de la cota superior es: 3.3307692307692784\n"
     ]
    }
   ],
   "source": [
    "error_cota_superior_x = kappa_a * delta_a\n",
    "print('El error de la cota superior es:',error_cota_superior_x)"
   ]
  },
  {
   "cell_type": "code",
   "execution_count": 8,
   "id": "c38067ee",
   "metadata": {},
   "outputs": [
    {
     "ename": "TypeError",
     "evalue": "unsupported operand type(s) for -: 'dict' and 'Symbol'",
     "output_type": "error",
     "traceback": [
      "\u001b[0;31m---------------------------------------------------------------------------\u001b[0m",
      "\u001b[0;31mTypeError\u001b[0m                                 Traceback (most recent call last)",
      "Cell \u001b[0;32mIn[8], line 1\u001b[0m\n\u001b[0;32m----> 1\u001b[0m \u001b[38;5;28mprint\u001b[39m(\u001b[38;5;124m\"\u001b[39m\u001b[38;5;124mError relativo real en x:\u001b[39m\u001b[38;5;124m\"\u001b[39m, np\u001b[38;5;241m.\u001b[39mlinalg\u001b[38;5;241m.\u001b[39mnorm(x1 \u001b[38;5;241m-\u001b[39m x, \u001b[38;5;28mord\u001b[39m\u001b[38;5;241m=\u001b[39mnp\u001b[38;5;241m.\u001b[39minf) \u001b[38;5;241m/\u001b[39m np\u001b[38;5;241m.\u001b[39mlinalg\u001b[38;5;241m.\u001b[39mnorm(x, \u001b[38;5;28mord\u001b[39m\u001b[38;5;241m=\u001b[39mnp\u001b[38;5;241m.\u001b[39minf))\n",
      "\u001b[0;31mTypeError\u001b[0m: unsupported operand type(s) for -: 'dict' and 'Symbol'"
     ]
    }
   ],
   "source": [
    "print(\"Error relativo real en x:\", np.linalg.norm(x1 - x, ord=np.inf) / np.linalg.norm(x, ord=np.inf))"
   ]
  },
  {
   "cell_type": "markdown",
   "id": "5d6cc44e",
   "metadata": {},
   "source": [
    "### Interpretación de resultados: \n",
    " La variación delta en (A) de  0.0043 refleja una mínima perturbación en la matriz. No obstante, dado el alto número de condición de A de 766.08, el sistema es muy sensible a cambios, lo que resulta en un error relativo real en x significativo de 144.23%. Esto indica que incluso pequeñas alteraciones en A pueden generar grandes desviaciones en las soluciones  x. La cota superior calculada 333.08% ofrece un techo estimado de este impacto. En resumen, pequeñas perturbaciones en A pueden llevar a cambios significativos y perjudiciales en las soluciones obtenidas."
   ]
  },
  {
   "cell_type": "markdown",
   "id": "1e7f68ed",
   "metadata": {},
   "source": [
    "# Punto 2. "
   ]
  },
  {
   "cell_type": "markdown",
   "id": "bec08a8e",
   "metadata": {},
   "source": [
    "Descargue un conjunto de datos y elija 4 variables numéricas según su interés. Calcule el vector de medias, la matriz de covarianzas y su inversa."
   ]
  },
  {
   "cell_type": "code",
   "execution_count": null,
   "id": "90d652fa",
   "metadata": {},
   "outputs": [],
   "source": [
    "import pandas as pd"
   ]
  },
  {
   "cell_type": "code",
   "execution_count": null,
   "id": "eb968748",
   "metadata": {},
   "outputs": [],
   "source": [
    "df = pd.read_csv('Ejemplo_SalarioMultiple.csv')\n",
    "df"
   ]
  },
  {
   "cell_type": "code",
   "execution_count": null,
   "id": "6b6c13b2",
   "metadata": {},
   "outputs": [],
   "source": [
    "df.dtypes"
   ]
  },
  {
   "cell_type": "code",
   "execution_count": null,
   "id": "364feab9",
   "metadata": {},
   "outputs": [],
   "source": [
    "df2 = df.drop(['age','tenure','salary'], axis = 1)\n",
    "df2"
   ]
  },
  {
   "cell_type": "code",
   "execution_count": null,
   "id": "1aa6e1db",
   "metadata": {},
   "outputs": [],
   "source": [
    "import matplotlib.pyplot as plt\n",
    "\n",
    "mean_assets, mean_profits, mean_roa, mean_sales= df2['assets'].mean() , df2['profits'].mean() , df2['roa'].mean() , df2['sales'].mean()\n",
    "mean_assets, mean_profits, mean_roa, mean_sales"
   ]
  },
  {
   "cell_type": "code",
   "execution_count": null,
   "id": "c01b04f9",
   "metadata": {},
   "outputs": [],
   "source": [
    "# vector de medias\n",
    "# Dibujar vectores de medias\n",
    "plt.arrow(mean_profits, mean_assets, 0, 0, color='r', width=0.05, head_width=0.3, alpha=0.5, label=\"Mean Vectors\")\n",
    "plt.arrow(mean_profits, mean_roa, 0, 0, color='r', width=0.05, head_width=0.3, alpha=0.5)\n",
    "plt.arrow(mean_profits, mean_sales, 0, 0, color='r', width=0.05, head_width=0.3, alpha=0.5)"
   ]
  },
  {
   "cell_type": "markdown",
   "id": "1f2c377e",
   "metadata": {},
   "source": [
    "#### Matriz covarianzas"
   ]
  },
  {
   "cell_type": "code",
   "execution_count": null,
   "id": "fe5a7705",
   "metadata": {},
   "outputs": [],
   "source": [
    "import numpy as np\n",
    "cov_matrix = np.cov(df2, rowvar = False)\n",
    "invcov_matrix = np.linalg.inv(cov_matrix)\n",
    "\n",
    "cov_matrix, invcov_matrix"
   ]
  },
  {
   "cell_type": "markdown",
   "id": "d68a2daa",
   "metadata": {},
   "source": [
    "## 2. Llame Z a la matriz de datos obtenida al restar la media de cada observación. ¿Cuál es la relación entre Z^tZ y la matriz de covarianza?"
   ]
  },
  {
   "cell_type": "code",
   "execution_count": null,
   "id": "2b3e0138",
   "metadata": {},
   "outputs": [],
   "source": [
    "means_total = df2.mean(axis=0)\n",
    "Z = df2 - means_total\n",
    "Zt = Z.T @ Z \n",
    "# se tiene que dividir por la len del df2 porque n-1 en una muestra y no una población\n",
    "#Se asume que al realizar la muestra ya se uso un n\n",
    "Zt_normalized = Zt/ len(df2 - 1)\n",
    "print(Zt_normalized)"
   ]
  },
  {
   "cell_type": "code",
   "execution_count": null,
   "id": "e1884942",
   "metadata": {},
   "outputs": [],
   "source": [
    "# Mostrar ambas matrices para realizar la comparación\n",
    "\n",
    "print('esta es la matriz de Zt:', Zt_normalized)\n",
    "\n",
    "print('esta es la matriz de covarianzas:', cov_matrix)"
   ]
  },
  {
   "cell_type": "code",
   "execution_count": null,
   "id": "0f0718da",
   "metadata": {},
   "outputs": [],
   "source": [
    "#notamos que las matrices son similares pero no exactas, por esto, obtamos por realizar una comparación entre ambas matrices\n",
    "\n",
    "difference_matrix = cov_matrix - Zt_normalized\n",
    "print(\"\\nDiferencia entre las Matrices:\")\n",
    "print(difference_matrix)"
   ]
  },
  {
   "cell_type": "code",
   "execution_count": null,
   "id": "ded68617",
   "metadata": {},
   "outputs": [],
   "source": [
    "#Ahora, aplicar la norma de Frobenius para identificar una diferencia generalizada:\n",
    "# Para obtener una única medida de diferencia, puedes calcular la norma Frobenius de la diferencia\n",
    "frobenius_norm = np.linalg.norm(difference_matrix, 'fro')\n",
    "print(\"\\nNorma Frobenius de la Diferencia:\", frobenius_norm)"
   ]
  },
  {
   "cell_type": "markdown",
   "id": "e242f60a",
   "metadata": {},
   "source": [
    "*interpretación* = en este caso, nos da una norma de Frobenius muy alta, lo cual significa que no existe tanta relación entre las matrices, revisar."
   ]
  },
  {
   "cell_type": "markdown",
   "id": "4ef0dece",
   "metadata": {},
   "source": [
    "### 3. Calcule la distancia de Mahalanobis de cada observación respecto al vector de medias. Realice una gráfica de dispersión de variables dos a dos coloreando cada observación de acuerdo con la distancia calculada."
   ]
  },
  {
   "cell_type": "code",
   "execution_count": null,
   "id": "d31c239e",
   "metadata": {},
   "outputs": [],
   "source": [
    "!pip install spicy"
   ]
  },
  {
   "cell_type": "code",
   "execution_count": null,
   "id": "3a3f388d",
   "metadata": {},
   "outputs": [],
   "source": [
    "import matplotlib.pyplot as plt\n",
    "import seaborn as sns\n",
    "from scipy.spatial import distance\n",
    "\n",
    "mahalanobis_dist = df2.apply(lambda row: distance.mahalanobis(row, means_total, invcov_matrix), axis=1)\n",
    "\n",
    "# Definir los colores basados en la distancia de Mahalanobis\n",
    "colors = plt.cm.viridis(mahalanobis_dist / max(mahalanobis_dist))\n",
    "\n",
    "# Iterar sobre cada par de características y graficar\n",
    "for i, feature_i in enumerate(df2.columns):\n",
    "    for j, feature_j in enumerate(df2.columns):\n",
    "        if i < j:  # Para evitar gráficos duplicados y gráficos en la diagonal\n",
    "            plt.figure(figsize=(6, 6))\n",
    "            plt.scatter(df2[feature_i], df2[feature_j], c=colors, cmap='viridis', s=50, alpha=0.6)\n",
    "            plt.title(f'Scatter Plot of {feature_i} vs {feature_j}')\n",
    "            plt.xlabel(feature_i)\n",
    "            plt.ylabel(feature_j)\n",
    "            plt.colorbar(label='Mahalanobis Distance')\n",
    "            plt.show()"
   ]
  },
  {
   "cell_type": "markdown",
   "id": "c25a2068",
   "metadata": {},
   "source": [
    "#### 4. Identifique la bola de radio 1 con centro en el vector de medias respecto a la distancia de Mahalanobis en la gráfica del punto anterior."
   ]
  },
  {
   "cell_type": "code",
   "execution_count": null,
   "id": "7044457a",
   "metadata": {},
   "outputs": [],
   "source": [
    "import numpy as np\n",
    "import matplotlib.pyplot as plt\n",
    "from matplotlib.patches import Ellipse\n",
    "from scipy.spatial import distance\n",
    "\n",
    "# Calcula las medias\n",
    "mean_vector = df2.mean(axis=0)\n",
    "\n",
    "# Calcula la distancia de Mahalanobis para cada punto en el DataFrame\n",
    "mahalanobis_dist = df2.apply(lambda row: distance.mahalanobis(row, mean_vector, invcov_matrix), axis=1)\n",
    "\n",
    "# Selecciona dos variables para visualizar\n",
    "selected_vars = df2[['assets', 'profits']]\n",
    "selected_mean = selected_vars.mean(axis=0)\n",
    "selected_cov = selected_vars.cov()\n",
    "\n",
    "# Función para dibujar la elipse\n",
    "def plot_mahalanobis_ellipse(mean, cov, ax):\n",
    "    \"\"\"Dibuja una elipse de Mahalanobis para una distancia de 1.\"\"\"\n",
    "    # Valores y vectores propios de la matriz de covarianza\n",
    "    eigvals, eigvecs = np.linalg.eigh(cov)\n",
    "    \n",
    "    # Ángulo de rotación y ancho/alto de la elipse\n",
    "    width = 2 * np.sqrt(eigvals[0])\n",
    "    height = 2 * np.sqrt(eigvals[1])\n",
    "    angle = np.degrees(np.arctan2(eigvecs[1, 0], eigvecs[0, 0]))\n",
    "    \n",
    "    # Crear y dibujar la elipse\n",
    "    ellipse = Ellipse(mean, width, height, angle=angle, edgecolor='r', facecolor='none')\n",
    "    ax.add_patch(ellipse)\n",
    "\n",
    "# Configurar el gráfico\n",
    "fig, ax = plt.subplots(figsize=(8, 8))\n",
    "\n",
    "# Dibujar la elipse de Mahalanobis para una distancia de 1\n",
    "plot_mahalanobis_ellipse(selected_mean, selected_cov, ax)\n",
    "\n",
    "# Agregar los puntos coloreados basados en la distancia de Mahalanobis\n",
    "scatter = ax.scatter(selected_vars.iloc[:, 0], selected_vars.iloc[:, 1], c=mahalanobis_dist, cmap='viridis', s=50, alpha=0.6)\n",
    "plt.colorbar(scatter, label='Mahalanobis Distance')\n",
    "\n",
    "# Configuración adicional del gráfico\n",
    "ax.set_title('Scatter Plot with Mahalanobis Ellipse')\n",
    "ax.set_xlabel(selected_vars.columns[0])\n",
    "ax.set_ylabel(selected_vars.columns[1])\n",
    "\n",
    "# Mostrar el gráfico\n",
    "plt.show()"
   ]
  },
  {
   "cell_type": "code",
   "execution_count": null,
   "id": "cf51efcf",
   "metadata": {},
   "outputs": [],
   "source": [
    "\n",
    "# Calcula las medias\n",
    "mean_vector = df2.mean(axis=0)\n",
    "\n",
    "# Calcula la distancia de Mahalanobis para cada punto en el DataFrame\n",
    "mahalanobis_dist = df2.apply(lambda row: distance.mahalanobis(row, mean_vector, invcov_matrix), axis=1)\n",
    "\n",
    "# Selecciona dos variables para visualizar\n",
    "selected_vars = df2[['roa', 'sales']]\n",
    "selected_mean = selected_vars.mean(axis=0)\n",
    "selected_cov = selected_vars.cov()\n",
    "\n",
    "# Función para dibujar la elipse\n",
    "def plot_mahalanobis_ellipse(mean, cov, ax):\n",
    "    \"\"\"Dibuja una elipse de Mahalanobis para una distancia de 1.\"\"\"\n",
    "    # Valores y vectores propios de la matriz de covarianza\n",
    "    eigvals, eigvecs = np.linalg.eigh(cov)\n",
    "    \n",
    "    # Ángulo de rotación y ancho/alto de la elipse\n",
    "    width = 2 * np.sqrt(eigvals[0])\n",
    "    height = 2 * np.sqrt(eigvals[1])\n",
    "    angle = np.degrees(np.arctan2(eigvecs[1, 0], eigvecs[0, 0]))\n",
    "    \n",
    "    # Crear y dibujar la elipse\n",
    "    ellipse = Ellipse(mean, width, height, angle=angle, edgecolor='r', facecolor='none')\n",
    "    ax.add_patch(ellipse)\n",
    "\n",
    "# Configurar el gráfico\n",
    "fig, ax = plt.subplots(figsize=(8, 8))\n",
    "\n",
    "# Dibujar la elipse de Mahalanobis para una distancia de 1\n",
    "plot_mahalanobis_ellipse(selected_mean, selected_cov, ax)\n",
    "\n",
    "# Agregar los puntos coloreados basados en la distancia de Mahalanobis\n",
    "scatter = ax.scatter(selected_vars.iloc[:, 0], selected_vars.iloc[:, 1], c=mahalanobis_dist, cmap='viridis', s=50, alpha=0.6)\n",
    "plt.colorbar(scatter, label='Mahalanobis Distance')\n",
    "\n",
    "# Configuración adicional del gráfico\n",
    "ax.set_title('Scatter Plot with Mahalanobis Ellipse')\n",
    "ax.set_xlabel(selected_vars.columns[0])\n",
    "ax.set_ylabel(selected_vars.columns[1])\n",
    "\n",
    "# Mostrar el gráfico\n",
    "plt.show()"
   ]
  },
  {
   "cell_type": "markdown",
   "id": "22a722da",
   "metadata": {},
   "source": [
    "# PROBLEMA 3"
   ]
  },
  {
   "cell_type": "code",
   "execution_count": null,
   "id": "145ef856",
   "metadata": {},
   "outputs": [],
   "source": [
    "import numpy as np\n",
    "\n",
    "def forward_substitution(L, b):\n",
    "    n = len(b)\n",
    "    x = np.zeros(n)\n",
    "    \n",
    "    for i in range(n):\n",
    "        sum_j = sum(L[i][j] * x[j] for j in range(i))\n",
    "        x[i] = (b[i] - sum_j) / L[i][i]\n",
    "    return x\n",
    "\n",
    "# Matriz triangular inferior L y vector b\n",
    "L = np.array([[1, 0, 0], [2, 1, 0], [3, 4, 1]], dtype=float)\n",
    "b = np.array([1, 2, 3], dtype=float)\n",
    "\n",
    "# Solución del sistema lineal\n",
    "x = forward_substitution(L, b)\n",
    "print(\"Solución particular:\", x)\n"
   ]
  },
  {
   "cell_type": "code",
   "execution_count": null,
   "id": "22b9f521",
   "metadata": {},
   "outputs": [],
   "source": [
    "import numpy as np\n",
    "\n",
    "def sustitucion_hacia_adelante(L, b):\n",
    "    n = len(b)\n",
    "    x = np.zeros(n)  # Inicializar el vector de solución\n",
    "    \n",
    "    for i in range(n):\n",
    "        x[i] = (b[i] - np.dot(L[i, :i], x[:i])) / L[i, i]\n",
    "    \n",
    "    return x"
   ]
  },
  {
   "cell_type": "code",
   "execution_count": null,
   "id": "eaeedd27",
   "metadata": {},
   "outputs": [],
   "source": [
    "# Definir la matriz triangular inferior L y el vector b\n",
    "L = np.array([[1, 0, 0],\n",
    "              [2, 1, 0],\n",
    "              [3, 4, 1]])\n",
    "\n",
    "b = np.array([1, 2, 3])\n",
    "\n",
    "# Resolver el sistema usando sustitución hacia adelante\n",
    "solucion = sustitucion_hacia_adelante(L, b)\n",
    "\n",
    "print(\"Solución del sistema Lx = b:\")\n",
    "print(solucion)"
   ]
  },
  {
   "cell_type": "markdown",
   "id": "ad2c96b0",
   "metadata": {},
   "source": [
    "### Interpretación de resultados\n",
    "\n",
    "La solución x1=1x1=1, x2=0x2=0, y x3=0x3=0, hace que todas las ecuaciones del sistema sean verdaderas al mismo tiempo. Esto significa que la primera ecuación es la única importante en este caso y las otras ecuaciones no afectan el resultado. En otras palabras, solo la primera fila de la matriz L es relevante para obtener el resultado en el vector b."
   ]
  },
  {
   "cell_type": "code",
   "execution_count": null,
   "id": "1ceafa85",
   "metadata": {},
   "outputs": [],
   "source": [
    "la solución x1=1x1=1, x2=0x2=0, y x3=0x3=0"
   ]
  },
  {
   "cell_type": "markdown",
   "id": "e720c0c2",
   "metadata": {},
   "source": [
    "# PROBLEMA 4"
   ]
  },
  {
   "cell_type": "markdown",
   "id": "80a9d44f",
   "metadata": {},
   "source": [
    "### 1.\n",
    "Sea Hn(i, j) = 1 , llamada la matriz de Hilbert. Simule 1000 datos i+j −1\n",
    "normales con matriz de covarianza Hn. Estime la matriz de covarianzas desde los datos simulados. Realice una grá\u001c",
    "ca de n en el eje x con el número condición de la matriz de covarianza estimada en el eje y. Recuerde que el número de condición es ∥A∥∥A−1∥. 3⁄4Que tipo de comportamiento observa?"
   ]
  },
  {
   "cell_type": "code",
   "execution_count": 27,
   "id": "d7f06205",
   "metadata": {},
   "outputs": [
    {
     "data": {
      "image/png": "[encoded data removed]",
      "text/plain": [
       "<Figure size 640x480 with 1 Axes>"
      ]
     },
     "metadata": {},
     "output_type": "display_data"
    }
   ],
   "source": [
    "import numpy as np\n",
    "import matplotlib.pyplot as plt\n",
    "\n",
    "# Función para calcular el número de condición de una matriz\n",
    "def calcular_numero_condicion(matriz):\n",
    "    norma_matriz = np.linalg.norm(matriz)\n",
    "    norma_inversa = np.linalg.norm(np.linalg.inv(matriz))\n",
    "    return norma_matriz * norma_inversa\n",
    "\n",
    "# Tamaño de la matriz de Hilbert\n",
    "n = 10  # Puedes ajustar el tamaño de la matriz\n",
    "\n",
    "# Generar la matriz de Hilbert\n",
    "matriz_hilbert = np.array([[1 / (i + j - 1) for j in range(1, n+1)] for i in range(1, n+1)])\n",
    "\n",
    "# Simular 1000 datos normales con media i+j-1 y matriz de covarianza Hn\n",
    "np.random.seed(0)\n",
    "datos_simulados = [np.random.multivariate_normal(mean=[i+j-1 for i in range(1, n+1)], cov=matriz_hilbert, size=1000) for j in range(1, n+1)]\n",
    "\n",
    "# Estimar la matriz de covarianza desde los datos simulados\n",
    "matriz_covarianza_estimada = np.cov(np.concatenate(datos_simulados, axis=1), rowvar=False)\n",
    "\n",
    "# Calcular el número de condición de la matriz de covarianza estimada\n",
    "numero_condicion = calcular_numero_condicion(matriz_covarianza_estimada)\n",
    "\n",
    "# Graficar n vs número de condición\n",
    "plt.plot(range(1, n+1), [numero_condicion] * n, marker='o', linestyle='-', color='b')\n",
    "plt.xlabel('n')\n",
    "plt.ylabel('Número de Condición')\n",
    "plt.title('Comportamiento del Número de Condición de la Matriz de Covarianza Estimada')\n",
    "plt.show()\n"
   ]
  },
  {
   "cell_type": "markdown",
   "id": "d764744e",
   "metadata": {},
   "source": [
    "En la gráfica se observa que la precisión de la estimación de la matriz de covarianza es consistente, independientemente del número de variables de los datos (en este caso 1.000). El número de condición estable es deseable en análisis estadísticos y aplicaciones de modelado, por lo que garantiza que las estimaciones de varianza y covarianza sean confiables y no estén distorsionadas por la variabilidad de los datos o el tamaño de la muestra."
   ]
  },
  {
   "cell_type": "markdown",
   "id": "42283788",
   "metadata": {},
   "source": [
    "### 2\n",
    "Considere x = [123456789101112131415]. De\u001c",
    "na b = H15x y resuelva numéricamente el sistema con la forma x = H −1 b. 3⁄4. Qué conclusión obtiene? Busque alternativas para resolver el problema observado."
   ]
  },
  {
   "cell_type": "code",
   "execution_count": 28,
   "id": "b9b0354d",
   "metadata": {},
   "outputs": [],
   "source": [
    "import numpy as np\n",
    "\n",
    "x = np.array([1,2,3,4,5,6,7,8,9,10,11,12,13,14,15])\n",
    "H_15 = np.linalg.inv(np.array([[1/(i+j+1) for i in range(15)] for j in range(15)]))\n",
    "b = np.dot(H_15, x)"
   ]
  },
  {
   "cell_type": "code",
   "execution_count": 29,
   "id": "8abd1be6",
   "metadata": {},
   "outputs": [],
   "source": [
    "#x usando la inversa de H15\n",
    "x_calculado = np.dot(np.linalg.inv(H_15), b)"
   ]
  },
  {
   "cell_type": "code",
   "execution_count": 30,
   "id": "fb114631",
   "metadata": {},
   "outputs": [
    {
     "name": "stdout",
     "output_type": "stream",
     "text": [
      "Vector original x: [ 1  2  3  4  5  6  7  8  9 10 11 12 13 14 15]\n",
      "Vector calculado x: [-3635.62797358   -54.41990676     6.31813027     9.74176388\n",
      "    11.02882409    11.98658179    12.85277053    13.69085329\n",
      "    14.5207563     15.35017884    16.18278974    17.02054163\n",
      "    17.86447293    18.71507502    19.5725021 ]\n"
     ]
    }
   ],
   "source": [
    "print(\"Vector original x:\", x)\n",
    "print(\"Vector calculado x:\", x_calculado)"
   ]
  },
  {
   "cell_type": "code",
   "execution_count": 26,
   "id": "5190a908",
   "metadata": {},
   "outputs": [
    {
     "data": {
      "image/png": "[encoded data removed]",
      "text/plain": [
       "<Figure size 1000x600 with 1 Axes>"
      ]
     },
     "metadata": {},
     "output_type": "display_data"
    }
   ],
   "source": [
    "import matplotlib.pyplot as plt\n",
    "\n",
    "# Vector original y vector calculado\n",
    "x_original = np.array([1, 2, 3, 4, 5, 6, 7, 8, 9, 10, 11, 12, 13, 14, 15])\n",
    "x_calculado = np.array([-3635.62797358, -54.42, 6.32, 9.74, 11.03, 11.99, 12.85, 13.69, 14.52, 15.35, 16.18, 17.02, 17.86, 18.72, 19.57])\n",
    "\n",
    "# Crear un gráfico de barras para comparar los valores\n",
    "plt.figure(figsize=(10, 6))\n",
    "plt.bar(range(len(x_original)), x_original, width=0.4, label='Original', align='center', alpha=0.7)\n",
    "plt.bar(np.arange(len(x_calculado)) + 0.4, x_calculado, width=0.4, label='Calculado', align='center', alpha=0.7)\n",
    "plt.xlabel('Índice')\n",
    "plt.ylabel('Valor')\n",
    "plt.title('Comparación entre el Vector Original y el Vector Calculado')\n",
    "plt.legend()\n",
    "plt.xticks(range(len(x_original)), range(1, len(x_original) + 1))\n",
    "plt.tight_layout()\n",
    "plt.show()"
   ]
  },
  {
   "cell_type": "markdown",
   "id": "e1cf9129",
   "metadata": {},
   "source": [
    "Se resolvió el sistema de ecuaciones utilizando la inversa de la matriz de covarianza Hilbert. Sin embargo, esta técnica puede ser susceptible a problemas de estabilidad numérica, lo que resulta en una solución menos precisa y esto se observa en lo alejados que estan los 2 primeros valores de x calculado, respecto al original."
   ]
  },
  {
   "cell_type": "markdown",
   "id": "71959e20",
   "metadata": {},
   "source": [
    "#### Solución alternativa 1"
   ]
  },
  {
   "cell_type": "code",
   "execution_count": 14,
   "id": "fd8f1a80",
   "metadata": {},
   "outputs": [
    {
     "name": "stdout",
     "output_type": "stream",
     "text": [
      "Vector original x:\n",
      "[ 1  2  3  4  5  6  7  8  9 10 11 12 13 14 15]\n",
      "Vector calculado x:\n",
      "[  0.99999985   2.00002111   2.99931817   4.00860907   4.95591203\n",
      "   5.98144455   8.4198371   -0.29718661  35.18983673 -42.59875652\n",
      "  81.27212584 -50.43731914  48.52658784   2.26774053  16.71182942]\n"
     ]
    }
   ],
   "source": [
    "import numpy as np\n",
    "\n",
    "# Definir el vector original x\n",
    "x = np.array([1, 2, 3, 4, 5, 6, 7, 8, 9, 10, 11, 12, 13, 14, 15])\n",
    "\n",
    "# Definir la matriz de covarianza Hilbert de tamaño 15\n",
    "H15 = np.array([[1 / (i + j - 1) for j in range(1, 16)] for i in range(1, 16)])\n",
    "\n",
    "# Calcular el lado derecho de la ecuación Lx = b\n",
    "b = np.dot(H15, x)\n",
    "\n",
    "# Resolver el sistema de ecuaciones lineales\n",
    "x_solved = np.linalg.solve(H15, b)\n",
    "\n",
    "# Imprimir el vector original x y el vector calculado x_solved\n",
    "print(\"Vector original x:\")\n",
    "print(x)\n",
    "print(\"Vector calculado x:\")\n",
    "print(x_solved)"
   ]
  },
  {
   "cell_type": "code",
   "execution_count": 15,
   "id": "883d3e27",
   "metadata": {},
   "outputs": [
    {
     "data": {
      "image/png": "[encoded data removed]",
      "text/plain": [
       "<Figure size 1000x600 with 1 Axes>"
      ]
     },
     "metadata": {},
     "output_type": "display_data"
    }
   ],
   "source": [
    "import matplotlib.pyplot as plt\n",
    "\n",
    "# Vector original y vector calculado\n",
    "x_original = np.array([1, 2, 3, 4, 5, 6, 7, 8, 9, 10, 11, 12, 13, 14, 15])\n",
    "x_calculado = np.array([0.99999985, 2.00002111 , 2.99931817, 4.00860907, 4.95591203, 5.98144455, 8.4198371, -0.29718661, 35.18983673, -42.59875652, 81.27212584, -50.43731914, 2.26774053, 16.71182942])\n",
    "\n",
    "# Crear un gráfico de barras para comparar los valores\n",
    "plt.figure(figsize=(10, 6))\n",
    "plt.bar(range(len(x_original)), x_original, width=0.4, label='Original', align='center', alpha=0.7)\n",
    "plt.bar(np.arange(len(x_calculado)) + 0.4, x_calculado, width=0.4, label='Calculado', align='center', alpha=0.7)\n",
    "plt.xlabel('Índice')\n",
    "plt.ylabel('Valor')\n",
    "plt.title('Comparación entre el Vector Original y el Vector Calculado')\n",
    "plt.legend()\n",
    "plt.xticks(range(len(x_original)), range(1, len(x_original) + 1))\n",
    "plt.tight_layout()\n",
    "plt.show()"
   ]
  },
  {
   "cell_type": "markdown",
   "id": "4145ed5b",
   "metadata": {},
   "source": [
    "#### Solución alternativa 2"
   ]
  },
  {
   "cell_type": "code",
   "execution_count": 16,
   "id": "e8d94489",
   "metadata": {},
   "outputs": [
    {
     "name": "stdout",
     "output_type": "stream",
     "text": [
      "Error de norma-2: 1.17e+02\n",
      "Error de cada componente: [-1.53965887e-07  2.11071069e-05 -6.81830652e-04  8.60907429e-03\n",
      " -4.40879663e-02 -1.85554459e-02  1.41983710e+00 -8.29718661e+00\n",
      "  2.61898367e+01 -5.25987565e+01  7.02721258e+01 -6.24373191e+01\n",
      "  3.55265878e+01 -1.17322595e+01  1.71182942e+00]\n"
     ]
    }
   ],
   "source": [
    "import numpy as np\n",
    "\n",
    " \n",
    "# Vector original x\n",
    "x_original = np.array([1, 2, 3, 4, 5, 6, 7, 8, 9, 10, 11, 12, 13, 14, 15])\n",
    "\n",
    " \n",
    "# Crear la matriz de Hilbert H15\n",
    "H15 = np.array([[1 / (i + j - 1) for j in range(1, 16)] for i in range(1, 16)])\n",
    "\n",
    "\n",
    "# Calcular b = H15 * x\n",
    "b = np.dot(H15, x_original)\n",
    "\n",
    "# Resolviendo el sistema de ecuaciones lineales usando linalg.solve\n",
    "x_solved_directly = np.linalg.solve(H15, b)\n",
    " \n",
    "# Calcular y visualizar el error\n",
    "error = np.linalg.norm(x_solved_directly - x_original, ord=2)\n",
    "print(f\"Error de norma-2: {error:.2e}\")\n",
    "\n",
    "# También puedes visualizar el error de cada componente\n",
    "component_wise_error = x_solved_directly - x_original\n",
    "\n",
    "print(f\"Error de cada componente: {component_wise_error}\")"
   ]
  },
  {
   "cell_type": "code",
   "execution_count": 19,
   "id": "8971c41c",
   "metadata": {},
   "outputs": [
    {
     "name": "stdout",
     "output_type": "stream",
     "text": [
      "Vector original x:\n",
      "[ 1  2  3  4  5  6  7  8  9 10 11 12 13 14 15]\n",
      "Vector calculado x:\n",
      "[   1.00000045    1.99991369    3.00401786    3.9199121     5.85594907\n",
      "    0.49401463   29.73435835  -54.29789076  123.25670894 -127.3475786\n",
      "  111.03466039  -20.2858321     4.80746334   24.34032254   12.48397927]\n"
     ]
    },
    {
     "name": "stderr",
     "output_type": "stream",
     "text": [
      "/var/folders/24/zvnz5t9134d_gqd5nclt877c0000gn/T/ipykernel_18512/1701748193.py:14: LinAlgWarning: Ill-conditioned matrix (rcond=4.70147e-19): result may not be accurate.\n",
      "  x_solved = solve(H15, b)\n"
     ]
    }
   ],
   "source": [
    "import numpy as np\n",
    "from scipy.linalg import solve\n",
    "\n",
    "# Definir el vector original x\n",
    "x = np.array([1, 2, 3, 4, 5, 6, 7, 8, 9, 10, 11, 12, 13, 14, 15])\n",
    "\n",
    "# Definir la matriz de covarianza Hilbert de tamaño 15\n",
    "H15 = np.array([[1 / (i + j - 1) for j in range(1, 16)] for i in range(1, 16)])\n",
    "\n",
    "# Calcular el lado derecho de la ecuación Lx = b\n",
    "b = np.dot(H15, x)\n",
    "\n",
    "# Resolver el sistema de ecuaciones lineales utilizando SciPy\n",
    "x_solved = solve(H15, b)\n",
    "\n",
    "# Imprimir el vector original x y el vector calculado x_solved\n",
    "print(\"Vector original x:\")\n",
    "print(x)\n",
    "print(\"Vector calculado x:\")\n",
    "print(x_solved)"
   ]
  },
  {
   "cell_type": "code",
   "execution_count": 25,
   "id": "874e7f12",
   "metadata": {},
   "outputs": [
    {
     "data": {
      "image/png": "[encoded data removed]",
      "text/plain": [
       "<Figure size 1000x600 with 1 Axes>"
      ]
     },
     "metadata": {},
     "output_type": "display_data"
    }
   ],
   "source": [
    "import matplotlib.pyplot as plt\n",
    "import numpy as np\n",
    "\n",
    "# Vectores originales proporcionados\n",
    "x_original = np.array([1, 2, 3, 4, 5, 6, 7, 8, 9, 10, 11, 12, 13, 14, 15])\n",
    "x_calculado = np.array([1.00000045, 1.99991369, 3.00401786, 3.9199121, 5.85594907, 0.49401463, \n",
    "                        29.73435835, -54.29789076, 123.25670894, -127.3475786, 111.03466039, \n",
    "                        -20.2858321, 4.80746334, 24.34032254, 12.48397927])\n",
    "\n",
    "# Crear un gráfico de barras para comparar los valores\n",
    "plt.figure(figsize=(10, 6))\n",
    "plt.bar(range(len(x_original)), x_original, width=0.4, label='Original', align='center', alpha=0.7)\n",
    "plt.bar(np.arange(len(x_calculado)) + 0.4, x_calculado, width=0.4, label='Calculado', align='center', alpha=0.7)\n",
    "plt.xlabel('Índice')\n",
    "plt.ylabel('Valor')\n",
    "plt.title('Comparación entre el Vector Original y el Vector Calculado')\n",
    "plt.legend()\n",
    "plt.xticks(range(len(x_original)), range(1, len(x_original) + 1))\n",
    "plt.tight_layout()\n",
    "plt.show()"
   ]
  },
  {
   "cell_type": "markdown",
   "id": "4bee6163",
   "metadata": {},
   "source": [
    "#### Conclusiones de soluciones alternativas"
   ]
  },
  {
   "cell_type": "markdown",
   "id": "5fdd2148",
   "metadata": {},
   "source": [
    "#### 1.\n",
    "\n",
    "La solución alternativa 1 es la que da un resultado más preciso, se utilizó np.linalg.solve() de NumPy, la cual demostró una precisión numérica superior en la solución del sistema de ecuaciones lineales Hx=b utilizando la matriz de covarianza Hilbert H y el vector b."
   ]
  },
  {
   "cell_type": "markdown",
   "id": "27b7e222",
   "metadata": {},
   "source": [
    "#### 2.\n",
    "En la solución alternativa 2 se utilizó scipy.linalg.solve(), dando como resultado una buena precisión, sin embargo, sigue siendo superior la alternativa 1 con np.linalg.solve() de NumPy por lo que se evidencia una implementación altamente optimizada, mejor manejo interno de la estabilidad numérica y mayor especialización en operaciones de álgebra lineal. "
   ]
  }
 ],
 "metadata": {
  "kernelspec": {
   "display_name": "Python 3 (ipykernel)",
   "language": "python",
   "name": "python3"
  },
  "language_info": {
   "codemirror_mode": {
    "name": "ipython",
    "version": 3
   },
   "file_extension": ".py",
   "mimetype": "text/x-python",
   "name": "python",
   "nbconvert_exporter": "python",
   "pygments_lexer": "ipython3",
   "version": "3.11.5"
  }
 },
 "nbformat": 4,
 "nbformat_minor": 5
}
