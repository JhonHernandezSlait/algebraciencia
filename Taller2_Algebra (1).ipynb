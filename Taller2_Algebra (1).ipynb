{
 "cells": [
  {
   "cell_type": "markdown",
   "id": "76d1bd6f",
   "metadata": {},
   "source": [
    "# Taller 2"
   ]
  },
  {
   "cell_type": "markdown",
   "id": "21da9fbd",
   "metadata": {},
   "source": [
    "## 1. sistemas matriciales"
   ]
  },
  {
   "cell_type": "markdown",
   "id": "ad2c2afb",
   "metadata": {},
   "source": [
    "### 1a."
   ]
  },
  {
   "cell_type": "code",
   "execution_count": 1,
   "id": "115c18e4",
   "metadata": {},
   "outputs": [],
   "source": [
    "import numpy as np"
   ]
  },
  {
   "cell_type": "code",
   "execution_count": 23,
   "id": "6807c0d0",
   "metadata": {},
   "outputs": [
    {
     "data": {
      "text/plain": [
       "array([[40.],\n",
       "       [10.],\n",
       "       [20.]])"
      ]
     },
     "execution_count": 23,
     "metadata": {},
     "output_type": "execute_result"
    }
   ],
   "source": [
    "a = np.array([[2,4,5],[6,9,8],[4.1,5,3]])\n",
    "b = np.array([[220],[490],[274]])\n",
    "x_original = np.linalg.solve(a,b)\n",
    "x_original"
   ]
  },
  {
   "cell_type": "markdown",
   "id": "013c514b",
   "metadata": {},
   "source": [
    "###  1b. "
   ]
  },
  {
   "cell_type": "markdown",
   "id": "36765903",
   "metadata": {},
   "source": [
    "Aplicaremos la función simpy by sym para en verificar si el sistema de ecuaciones tiene más de una soluación o si el problema afecta la única solución del sistema:"
   ]
  },
  {
   "cell_type": "code",
   "execution_count": 5,
   "id": "3dc673ea",
   "metadata": {},
   "outputs": [
    {
     "data": {
      "image/png": "[encoded data removed]",
      "text/latex": [
       "$\\displaystyle \\left\\{ x : 20.0, \\  y : 31.5384615384615, \\  z : 10.7692307692308\\right\\}$"
      ],
      "text/plain": [
       "{x: 20.0, y: 31.5384615384615, z: 10.7692307692308}"
      ]
     },
     "execution_count": 5,
     "metadata": {},
     "output_type": "execute_result"
    }
   ],
   "source": [
    "import sympy as sym\n",
    "sym.init_printing()\n",
    "x, y, z = sym.symbols('x, y, z')\n",
    "f1 = sym.Eq(2*x+4*y+5*z,220)\n",
    "f2 = sym.Eq(6*x+9*y+8*z,490)\n",
    "f3 = sym.Eq(4.2*x+5*y+3*z,274)\n",
    "x1 = sym.solve([f1,f2,f3],[x,y,z])\n",
    "x1"
   ]
  },
  {
   "cell_type": "code",
   "execution_count": 22,
   "id": "b07412fb",
   "metadata": {},
   "outputs": [
    {
     "data": {
      "text/plain": [
       "array([20.        , 31.53846154, 10.76923077])"
      ]
     },
     "execution_count": 22,
     "metadata": {},
     "output_type": "execute_result"
    }
   ],
   "source": [
    "#con numpy:\n",
    "a_modificada = np.array([[2, 4, 5], [6,9,8],[4.2,5,3]])\n",
    "b = np.array([220,490,274])\n",
    "\n",
    "x_modificado= np.linalg.solve(a_modificada, b)\n",
    "x_modificado"
   ]
  },
  {
   "cell_type": "markdown",
   "id": "9855a712",
   "metadata": {},
   "source": [
    "b) Utilizar el delta para determinar el error relativo en A, en este caso, se usará la función con numpy y no sympy debido a que esta no tiene letras."
   ]
  },
  {
   "cell_type": "code",
   "execution_count": 25,
   "id": "81924962",
   "metadata": {},
   "outputs": [
    {
     "name": "stdout",
     "output_type": "stream",
     "text": [
      "El delta de a es: 0.004347826086956545\n"
     ]
    }
   ],
   "source": [
    "delta_a = np.linalg.norm(a_modificada - a, ord=np.inf) / np.linalg.norm(a, ord=np.inf)\n",
    "print('El delta de a es:',delta_a)"
   ]
  },
  {
   "cell_type": "markdown",
   "id": "1b5d1414",
   "metadata": {},
   "source": [
    "c) Calcular el numero de condición de a"
   ]
  },
  {
   "cell_type": "code",
   "execution_count": 26,
   "id": "01b4182f",
   "metadata": {},
   "outputs": [
    {
     "name": "stdout",
     "output_type": "stream",
     "text": [
      "el numero de condición de a es: 766.0769230769235\n"
     ]
    }
   ],
   "source": [
    "kappa_a = np.linalg.cond(a, p=np.inf)\n",
    "print('el numero de condición de a es:', kappa_a)"
   ]
  },
  {
   "cell_type": "markdown",
   "id": "246d7763",
   "metadata": {},
   "source": [
    "d) identificar cota superior."
   ]
  },
  {
   "cell_type": "code",
   "execution_count": 27,
   "id": "886e31ac",
   "metadata": {},
   "outputs": [
    {
     "name": "stdout",
     "output_type": "stream",
     "text": [
      "El error de la cota superior es: 3.330769230769251\n"
     ]
    }
   ],
   "source": [
    "error_cota_superior_x = kappa_a * delta_a\n",
    "print('El error de la cota superior es:',error_cota_superior_x)"
   ]
  },
  {
   "cell_type": "code",
   "execution_count": 24,
   "id": "b3e71722",
   "metadata": {},
   "outputs": [
    {
     "name": "stdout",
     "output_type": "stream",
     "text": [
      "Error relativo real en x: 1.4423076923076978\n"
     ]
    }
   ],
   "source": [
    "print(\"Error relativo real en x:\", np.linalg.norm(x1 - x, ord=np.inf) / np.linalg.norm(x, ord=np.inf))"
   ]
  },
  {
   "cell_type": "markdown",
   "id": "8421eb00",
   "metadata": {},
   "source": [
    "### Interpretación de resultados: \n",
    "El delta del error relativo, utilizando la libreria de algebra lineal, nos permite identificar que tanto la modificación de una variable perjudicó el resultado general en la matriz en terminos relativos. Posteriormente, utilizamos la función .cond para identificar el numero de condición de a ante cambios en la matriz de entrada; calcula la medida de sensibilidad del sistema/matriz. A continuación, se calcula la cota superior que es el limite superior o valor máximo que puede tomar. Finalmente, al integrar los resultados con el error relativo, indica que esta variación perjudica en un 144.23% la solución de los resultados originales."
   ]
  }
 ],
 "metadata": {
  "kernelspec": {
   "display_name": "Python 3 (ipykernel)",
   "language": "python",
   "name": "python3"
  },
  "language_info": {
   "codemirror_mode": {
    "name": "ipython",
    "version": 3
   },
   "file_extension": ".py",
   "mimetype": "text/x-python",
   "name": "python",
   "nbconvert_exporter": "python",
   "pygments_lexer": "ipython3",
   "version": "3.9.13"
  }
 },
 "nbformat": 4,
 "nbformat_minor": 5
}
